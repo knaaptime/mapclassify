{
 "cells": [
  {
   "cell_type": "code",
   "execution_count": 1,
   "metadata": {},
   "outputs": [],
   "source": [
    "import libpysal \n",
    "import geopandas as gpd\n",
    "import mapclassify\n",
    "from ipyleaflet import Map, GeoData, basemaps, LayersControl, Choropleth\n",
    "import json"
   ]
  },
  {
   "cell_type": "code",
   "execution_count": 2,
   "metadata": {},
   "outputs": [],
   "source": [
    "pth = libpysal.examples.get_path('south.shp')\n",
    "gdf = gpd.read_file(pth)"
   ]
  },
  {
   "cell_type": "code",
   "execution_count": 3,
   "metadata": {},
   "outputs": [],
   "source": [
    "gdf.index = gdf.index.astype(str)  # geojson converts ints to strings under the hood"
   ]
  },
  {
   "cell_type": "code",
   "execution_count": 9,
   "metadata": {},
   "outputs": [
    {
     "data": {
      "application/vnd.jupyter.widget-view+json": {
       "model_id": "068f1f07f94a460cbfb3bd0517c5b161",
       "version_major": 2,
       "version_minor": 0
      },
      "text/plain": [
       "Map(center=[35, -86], controls=(ZoomControl(options=['position', 'zoom_in_text', 'zoom_in_title', 'zoom_out_te…"
      ]
     },
     "metadata": {},
     "output_type": "display_data"
    }
   ],
   "source": [
    "m = Map(center=(35, -86), zoom = 5, basemap= basemaps.Esri.WorldTopoMap)\n",
    "\n",
    "geo_data = GeoData(geo_dataframe = gdf, name = 'South', k=8)\n",
    "\n",
    "\n",
    "layer = Choropleth(\n",
    "    geo_data=gdf.__geo_interface__,\n",
    "    choro_data=gdf.BLK70.to_dict(),\n",
    "    border_color='black')\n",
    "\n",
    "#m = ipyleaflet.Map(center = (43,-100), zoom = 4)\n",
    "m.add_layer(layer)\n",
    "#m.add_layer(geo_data)\n",
    "m.add_control(LayersControl())\n",
    "\n",
    "m\n"
   ]
  },
  {
   "cell_type": "code",
   "execution_count": 5,
   "metadata": {},
   "outputs": [],
   "source": [
    "from branca.colormap import ColorMap, LinearColormap, linear"
   ]
  },
  {
   "cell_type": "code",
   "execution_count": null,
   "metadata": {},
   "outputs": [],
   "source": [
    "from mapclassify import Quantiles"
   ]
  },
  {
   "cell_type": "code",
   "execution_count": null,
   "metadata": {},
   "outputs": [],
   "source": [
    "q = Quantiles(list(gdf.BLK70.to_dict().values()), 8)"
   ]
  },
  {
   "cell_type": "code",
   "execution_count": null,
   "metadata": {},
   "outputs": [],
   "source": [
    "colormap = linear.OrRd_06.scale(min(list(gdf.BLK70.to_dict().values())), max(list(gdf.BLK70.to_dict().values())), )"
   ]
  },
  {
   "cell_type": "code",
   "execution_count": null,
   "metadata": {},
   "outputs": [],
   "source": [
    "colormap = colormap.to_step(index=q.bins, n=8)"
   ]
  },
  {
   "cell_type": "code",
   "execution_count": null,
   "metadata": {},
   "outputs": [],
   "source": [
    "colormap"
   ]
  },
  {
   "cell_type": "code",
   "execution_count": null,
   "metadata": {},
   "outputs": [],
   "source": []
  }
 ],
 "metadata": {
  "kernelspec": {
   "display_name": "Python [conda env:mapclassify]",
   "language": "python",
   "name": "conda-env-mapclassify-py"
  },
  "language_info": {
   "codemirror_mode": {
    "name": "ipython",
    "version": 3
   },
   "file_extension": ".py",
   "mimetype": "text/x-python",
   "name": "python",
   "nbconvert_exporter": "python",
   "pygments_lexer": "ipython3",
   "version": "3.6.10"
  }
 },
 "nbformat": 4,
 "nbformat_minor": 4
}
